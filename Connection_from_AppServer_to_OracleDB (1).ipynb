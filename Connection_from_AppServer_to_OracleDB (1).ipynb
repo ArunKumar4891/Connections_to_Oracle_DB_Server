{
 "cells": [
  {
   "cell_type": "code",
   "execution_count": 1,
   "metadata": {},
   "outputs": [
    {
     "ename": "ModuleNotFoundError",
     "evalue": "No module named 'cx_Oracle'",
     "output_type": "error",
     "traceback": [
      "\u001b[1;31m---------------------------------------------------------------------------\u001b[0m",
      "\u001b[1;31mModuleNotFoundError\u001b[0m                       Traceback (most recent call last)",
      "\u001b[1;32m<ipython-input-1-1017115c1f3f>\u001b[0m in \u001b[0;36m<module>\u001b[1;34m\u001b[0m\n\u001b[0;32m      1\u001b[0m \u001b[1;31m# connect from Application server (RedHat Linux server) to Oracle TDW DB server (RedHat Linux server) through python.\u001b[0m\u001b[1;33m\u001b[0m\u001b[1;33m\u001b[0m\u001b[1;33m\u001b[0m\u001b[0m\n\u001b[0;32m      2\u001b[0m \u001b[1;33m\u001b[0m\u001b[0m\n\u001b[1;32m----> 3\u001b[1;33m \u001b[1;32mimport\u001b[0m \u001b[0mcx_Oracle\u001b[0m\u001b[1;33m\u001b[0m\u001b[1;33m\u001b[0m\u001b[0m\n\u001b[0m\u001b[0;32m      4\u001b[0m \u001b[1;32mimport\u001b[0m \u001b[0mpandas\u001b[0m \u001b[1;32mas\u001b[0m \u001b[0mpd\u001b[0m\u001b[1;33m\u001b[0m\u001b[1;33m\u001b[0m\u001b[0m\n\u001b[0;32m      5\u001b[0m \u001b[1;32mimport\u001b[0m \u001b[0mdatetime\u001b[0m\u001b[1;33m\u001b[0m\u001b[1;33m\u001b[0m\u001b[0m\n",
      "\u001b[1;31mModuleNotFoundError\u001b[0m: No module named 'cx_Oracle'"
     ]
    }
   ],
   "source": [
    "# connect from Application server (RedHat Linux server) to Oracle TDW DB server (RedHat Linux server) through python.\n",
    "\n",
    "import cx_Oracle\n",
    "import pandas as pd\n",
    "import datetime\n",
    "\n",
    "try:\n",
    "    conn = cx_Oracle.connect(\"<UserName>\", \"<password>\", \"<DataBase Name>:1621/<table name\")   # conect to Oracle DB server\n",
    "    \n",
    "    \"\"\"\n",
    "    UserName : oracle TDW DB server username, \n",
    "    password: oracle TDW DB server password, \n",
    "    ServerName : \"DB name :Port#/<table name\")\n",
    "    \n",
    "    \"\"\"\n",
    "\n",
    "except Exception as err:\n",
    "    print(\"Exception error while creating the connection\", err)   # if connection failed, it will print as exception error\n",
    "\n",
    "else:\n",
    "    try:\n",
    "        cur = conn.cursor()\n",
    "        maxdate = str(datetime.datetime.today() - datetime.timedelta(days=30))\n",
    "\n",
    "        query_timestamp =\"1\" + maxdate[0:2] + maxdate[5:7] + maxdate[8:10] + maxdate[11:13] + maxdate[14:16] + maxdate[17:19] + maxdate[20:23]\n",
    "\n",
    "        sql =  \"\"\"SELECT distinct \"System_Name\" FROM \"KLZ_CPU_H\" \"\"\" + \"\"\" where 'Timestamp'> '\"\"\" + query_timestamp + \"\"\"' and \"System_Name\" in ('Server1, Server2, Server3, Server4, etc...') and \"CPU_ID\"='-1' \"\"\"\n",
    "        print(sql)\n",
    "        result= cur.execute(sql)\n",
    "        colList = [tuple[0] for tuple in result.description]\n",
    "        row = cur.fetchall()\n",
    "        rawdata= pd.DataFrame.from_records(row,columns=colList).copy()\n",
    "        rawdata.to_csv('TDW_Output_Hourly.csv', sep = \",\")\n",
    "        #print(row)\n",
    "\n",
    "        for index, record in enumerate(row):\n",
    "            print(\"Index is \", index, ':', record)\n",
    "    except Exception as err:\n",
    "        print(\"Exception error while fetching the records\", err)\n",
    "\n",
    "    else:\n",
    "        print(\"Completed \")\n"
   ]
  },
  {
   "cell_type": "code",
   "execution_count": null,
   "metadata": {},
   "outputs": [],
   "source": []
  }
 ],
 "metadata": {
  "kernelspec": {
   "display_name": "Python 3",
   "language": "python",
   "name": "python3"
  },
  "language_info": {
   "codemirror_mode": {
    "name": "ipython",
    "version": 3
   },
   "file_extension": ".py",
   "mimetype": "text/x-python",
   "name": "python",
   "nbconvert_exporter": "python",
   "pygments_lexer": "ipython3",
   "version": "3.7.6"
  }
 },
 "nbformat": 4,
 "nbformat_minor": 4
}
